{
  "cells": [
    {
      "cell_type": "code",
      "execution_count": 1,
      "metadata": {
        "colab": {
          "base_uri": "https://localhost:8080/"
        },
        "collapsed": true,
        "id": "HyKdi7lhkIVp",
        "outputId": "22520305-de07-4b03-bb58-243e949a86d0"
      },
      "outputs": [
        {
          "name": "stdout",
          "output_type": "stream",
          "text": [
            "Requirement already satisfied: pypdf in /usr/local/lib/python3.12/dist-packages (6.0.0)\n",
            "Requirement already satisfied: pandas in /usr/local/lib/python3.12/dist-packages (2.2.2)\n",
            "Requirement already satisfied: openpyxl in /usr/local/lib/python3.12/dist-packages (3.1.5)\n",
            "Requirement already satisfied: aixplain in /usr/local/lib/python3.12/dist-packages (0.2.34)\n",
            "Requirement already satisfied: PyPDF2 in /usr/local/lib/python3.12/dist-packages (3.0.1)\n",
            "Requirement already satisfied: numpy>=1.26.0 in /usr/local/lib/python3.12/dist-packages (from pandas) (2.0.2)\n",
            "Requirement already satisfied: python-dateutil>=2.8.2 in /usr/local/lib/python3.12/dist-packages (from pandas) (2.9.0.post0)\n",
            "Requirement already satisfied: pytz>=2020.1 in /usr/local/lib/python3.12/dist-packages (from pandas) (2025.2)\n",
            "Requirement already satisfied: tzdata>=2022.7 in /usr/local/lib/python3.12/dist-packages (from pandas) (2025.2)\n",
            "Requirement already satisfied: et-xmlfile in /usr/local/lib/python3.12/dist-packages (from openpyxl) (2.0.0)\n",
            "Requirement already satisfied: requests>=2.1.0 in /usr/local/lib/python3.12/dist-packages (from aixplain) (2.32.4)\n",
            "Requirement already satisfied: tqdm>=4.1.0 in /usr/local/lib/python3.12/dist-packages (from aixplain) (4.67.1)\n",
            "Requirement already satisfied: python-dotenv>=1.0.0 in /usr/local/lib/python3.12/dist-packages (from aixplain) (1.1.1)\n",
            "Requirement already satisfied: validators>=0.20.0 in /usr/local/lib/python3.12/dist-packages (from aixplain) (0.35.0)\n",
            "Requirement already satisfied: filetype>=1.2.0 in /usr/local/lib/python3.12/dist-packages (from aixplain) (1.2.0)\n",
            "Requirement already satisfied: click>=7.1.2 in /usr/local/lib/python3.12/dist-packages (from aixplain) (8.2.1)\n",
            "Requirement already satisfied: PyYAML>=6.0.1 in /usr/local/lib/python3.12/dist-packages (from aixplain) (6.0.2)\n",
            "Requirement already satisfied: dataclasses-json>=0.5.2 in /usr/local/lib/python3.12/dist-packages (from aixplain) (0.6.7)\n",
            "Requirement already satisfied: Jinja2==3.1.6 in /usr/local/lib/python3.12/dist-packages (from aixplain) (3.1.6)\n",
            "Requirement already satisfied: sentry-sdk>=1.0.0 in /usr/local/lib/python3.12/dist-packages (from aixplain) (2.35.2)\n",
            "Requirement already satisfied: pydantic>=2.10.6 in /usr/local/lib/python3.12/dist-packages (from aixplain) (2.11.7)\n",
            "Requirement already satisfied: filelock>=3.0.0 in /usr/local/lib/python3.12/dist-packages (from aixplain) (3.19.1)\n",
            "Requirement already satisfied: MarkupSafe>=2.0 in /usr/local/lib/python3.12/dist-packages (from Jinja2==3.1.6->aixplain) (3.0.2)\n",
            "Requirement already satisfied: marshmallow<4.0.0,>=3.18.0 in /usr/local/lib/python3.12/dist-packages (from dataclasses-json>=0.5.2->aixplain) (3.26.1)\n",
            "Requirement already satisfied: typing-inspect<1,>=0.4.0 in /usr/local/lib/python3.12/dist-packages (from dataclasses-json>=0.5.2->aixplain) (0.9.0)\n",
            "Requirement already satisfied: annotated-types>=0.6.0 in /usr/local/lib/python3.12/dist-packages (from pydantic>=2.10.6->aixplain) (0.7.0)\n",
            "Requirement already satisfied: pydantic-core==2.33.2 in /usr/local/lib/python3.12/dist-packages (from pydantic>=2.10.6->aixplain) (2.33.2)\n",
            "Requirement already satisfied: typing-extensions>=4.12.2 in /usr/local/lib/python3.12/dist-packages (from pydantic>=2.10.6->aixplain) (4.15.0)\n",
            "Requirement already satisfied: typing-inspection>=0.4.0 in /usr/local/lib/python3.12/dist-packages (from pydantic>=2.10.6->aixplain) (0.4.1)\n",
            "Requirement already satisfied: six>=1.5 in /usr/local/lib/python3.12/dist-packages (from python-dateutil>=2.8.2->pandas) (1.17.0)\n",
            "Requirement already satisfied: charset_normalizer<4,>=2 in /usr/local/lib/python3.12/dist-packages (from requests>=2.1.0->aixplain) (3.4.3)\n",
            "Requirement already satisfied: idna<4,>=2.5 in /usr/local/lib/python3.12/dist-packages (from requests>=2.1.0->aixplain) (3.10)\n",
            "Requirement already satisfied: urllib3<3,>=1.21.1 in /usr/local/lib/python3.12/dist-packages (from requests>=2.1.0->aixplain) (2.5.0)\n",
            "Requirement already satisfied: certifi>=2017.4.17 in /usr/local/lib/python3.12/dist-packages (from requests>=2.1.0->aixplain) (2025.8.3)\n",
            "Requirement already satisfied: packaging>=17.0 in /usr/local/lib/python3.12/dist-packages (from marshmallow<4.0.0,>=3.18.0->dataclasses-json>=0.5.2->aixplain) (25.0)\n",
            "Requirement already satisfied: mypy-extensions>=0.3.0 in /usr/local/lib/python3.12/dist-packages (from typing-inspect<1,>=0.4.0->dataclasses-json>=0.5.2->aixplain) (1.1.0)\n"
          ]
        }
      ],
      "source": [
        "!pip install pypdf pandas openpyxl aixplain PyPDF2"
      ]
    },
    {
      "cell_type": "markdown",
      "metadata": {
        "id": "mQfXnTZpkUT3"
      },
      "source": [
        "# API Key"
      ]
    },
    {
      "cell_type": "code",
      "execution_count": null,
      "metadata": {
        "id": "9mbvDr1kkNzx"
      },
      "outputs": [],
      "source": [
        "import os\n",
        "os.environ[\"TEAM_API_KEY\"] = \"#\""
      ]
    },
    {
      "cell_type": "markdown",
      "metadata": {
        "id": "jKqQuix-kV2T"
      },
      "source": [
        "# Web Scraper Tool"
      ]
    },
    {
      "cell_type": "code",
      "execution_count": 12,
      "metadata": {
        "id": "5why0eExkQBa"
      },
      "outputs": [],
      "source": [
        "from aixplain.factories import ModelFactory, AgentFactory\n",
        "\n",
        "scraper = ModelFactory.get(\"66f423426eb563fa213a3531\")\n",
        "scraper_tool = AgentFactory.create_model_tool(\n",
        "    model=scraper,\n",
        "    description=\"Extracts and reads the content of a specified website. Input: URL text. Output: scraped page content.\"\n",
        "\n",
        ")"
      ]
    },
    {
      "cell_type": "markdown",
      "metadata": {
        "id": "KPHbxDAmkbmL"
      },
      "source": [
        "# Federal API Utility tool"
      ]
    },
    {
      "cell_type": "code",
      "execution_count": 13,
      "metadata": {
        "id": "GP9bKbJukP-a"
      },
      "outputs": [],
      "source": [
        "def federal_register_lookup(query: str, limit: int = 5) -> list:\n",
        "    \"\"\"\n",
        "    Searches the Federal Register for documents related to a specific query.\n",
        "\n",
        "    Parameters\n",
        "    ----------\n",
        "    query : str\n",
        "        A natural language or keyword input (e.g., \"Executive Order 14067\").\n",
        "\n",
        "    limit : int\n",
        "        The number of top documents to return (default: 5).\n",
        "\n",
        "    Returns\n",
        "    -------\n",
        "    list\n",
        "        A list of matching documents with:\n",
        "        - title: Document title\n",
        "        - document_type: Type of publication (e.g., Executive Order, Notice)\n",
        "        - publication_date: Date of publication\n",
        "        - html_url: Link to the document\n",
        "        - status: Document status if available (active/repealed), else None\n",
        "    \"\"\"\n",
        "    import requests\n",
        "\n",
        "    base_url = \"https://www.federalregister.gov/api/v1/documents.json\"\n",
        "    params = {\n",
        "        \"per_page\": limit,\n",
        "        \"order\": \"relevance\",\n",
        "        \"conditions[term]\": query\n",
        "    }\n",
        "\n",
        "    try:\n",
        "        response = requests.get(base_url, params=params)\n",
        "        response.raise_for_status()\n",
        "        results = response.json().get(\"results\", [])\n",
        "\n",
        "        return [\n",
        "            {\n",
        "                \"title\": doc.get(\"title\"),\n",
        "                \"document_type\": doc.get(\"document_type\"),\n",
        "                \"publication_date\": doc.get(\"publication_date\"),\n",
        "                \"html_url\": doc.get(\"html_url\"),\n",
        "                \"status\": doc.get(\"status\") if \"status\" in doc else None\n",
        "            }\n",
        "            for doc in results\n",
        "        ]\n",
        "\n",
        "    except requests.RequestException as e:\n",
        "        return [{\"error\": f\"Request failed: {e}\"}]"
      ]
    },
    {
      "cell_type": "code",
      "execution_count": 20,
      "metadata": {
        "id": "ITDyyxxlsJQE"
      },
      "outputs": [],
      "source": [
        "utility_model = ModelFactory.create_utility_model(\n",
        "    name=\"Federal Register tool\",\n",
        "    code=federal_register_lookup\n",
        ")\n",
        "\n",
        "federal_register_tool = AgentFactory.create_model_tool(model=utility_model.id)"
      ]
    },
    {
      "cell_type": "markdown",
      "metadata": {
        "id": "Rh_uLSWekgDu"
      },
      "source": [
        "# Knowledge and indexing"
      ]
    },
    {
      "cell_type": "code",
      "execution_count": 10,
      "metadata": {
        "id": "1q5lW5K1kP6T"
      },
      "outputs": [],
      "source": [
        "from aixplain.factories import IndexFactory, AgentFactory\n",
        "from aixplain.modules.model.record import Record\n",
        "import PyPDF2\n",
        "import pandas as pd\n",
        "import os\n",
        "\n",
        "knowledge_index = IndexFactory.create(\n",
        "    name=\"Documents Knowledge Base\",\n",
        "    description=\"Stores content from PDF and CSV files\"\n",
        ")"
      ]
    },
    {
      "cell_type": "code",
      "execution_count": 9,
      "metadata": {
        "id": "mrsVHEX5kP4B"
      },
      "outputs": [],
      "source": [
        "from aixplain.factories import IndexFactory\n",
        "\n",
        "# To delete the index\n",
        "index_delete = IndexFactory.get(\"68baf0c76e7528eb1aa54da4\")\n",
        "\n",
        "index_delete.delete()"
      ]
    },
    {
      "cell_type": "code",
      "execution_count": 15,
      "metadata": {
        "id": "t4wIUpRlkP16"
      },
      "outputs": [],
      "source": [
        "index_tool = AgentFactory.create_model_tool(knowledge_index.id)"
      ]
    },
    {
      "cell_type": "code",
      "execution_count": 16,
      "metadata": {
        "id": "76yyBSPTkPyw"
      },
      "outputs": [],
      "source": [
        "import io\n",
        "import hashlib\n",
        "\n",
        "def process_uploaded_file(uploaded_file, file_type):\n",
        "    \"\"\"\n",
        "    Extract text content from PDF / CSV / XLSX in-memory.\n",
        "    Returns a tuple (text_content, meta_bytes) where meta_bytes are used for hashing doc_id.\n",
        "    \"\"\"\n",
        "    file_type = file_type.lower()\n",
        "    raw_bytes = uploaded_file.read()\n",
        "    uploaded_file.seek(0)\n",
        "\n",
        "    if file_type == \"pdf\":\n",
        "        pdf_reader = PyPDF2.PdfReader(io.BytesIO(raw_bytes))\n",
        "        pages = []\n",
        "        for p in pdf_reader.pages:\n",
        "            text = p.extract_text() or \"\"\n",
        "            pages.append(text)\n",
        "        text_content = \"\\n\".join(pages)\n",
        "\n",
        "    elif file_type == \"csv\":\n",
        "        df = pd.read_csv(io.BytesIO(raw_bytes))\n",
        "        text_content = df.to_csv(index=False)\n",
        "\n",
        "    elif file_type == \"xlsx\":\n",
        "        df = pd.read_excel(io.BytesIO(raw_bytes))\n",
        "        text_content = df.to_csv(index=False)\n",
        "\n",
        "    else:\n",
        "        raise ValueError(f\"Unsupported file_type: {file_type}\")\n",
        "\n",
        "    return text_content, raw_bytes\n",
        "\n",
        "def chunk_text(text, chunk_size=1000, chunk_overlap=200):\n",
        "    chunks = []\n",
        "    step = max(1, chunk_size - chunk_overlap)\n",
        "    for i in range(0, len(text), step):\n",
        "        chunk = text[i:i+chunk_size]\n",
        "        if chunk.strip():\n",
        "            chunks.append(chunk)\n",
        "    return chunks\n",
        "\n",
        "def make_doc_id(filename: str, raw_bytes: bytes):\n",
        "    h = hashlib.md5(raw_bytes).hexdigest()[:12]\n",
        "    return f\"{os.path.basename(filename)}:{h}\"\n",
        "\n",
        "def batched(iterable, n=200):\n",
        "    for i in range(0, len(iterable), n):\n",
        "        yield iterable[i:i+n]\n",
        "\n",
        "def index_uploaded_file(uploaded_file, file_type, chunk_size=1000, chunk_overlap=200, extra_meta=None):\n",
        "    \"\"\"\n",
        "    Index a single UploadedFile into the shared index with metadata.\n",
        "    Deterministic record IDs (doc_id:chunk_index) allow updates on re-upload.\n",
        "    \"\"\"\n",
        "    if isinstance(uploaded_file, str):\n",
        "        class FileWrapper:\n",
        "            def __init__(self, path):\n",
        "                self.file = open(path, \"rb\")\n",
        "                self.name = os.path.basename(path)\n",
        "            def read(self):\n",
        "                return self.file.read()\n",
        "            def seek(self, pos):\n",
        "                return self.file.seek(pos)\n",
        "        uploaded_file = FileWrapper(uploaded_file)\n",
        "\n",
        "    content, raw_bytes = process_uploaded_file(uploaded_file, file_type)\n",
        "    chunks = chunk_text(content, chunk_size, chunk_overlap)\n",
        "\n",
        "    filename = uploaded_file.name\n",
        "    doc_id = make_doc_id(filename, raw_bytes)\n",
        "\n",
        "    base_meta = {\n",
        "        \"doc_id\": doc_id,\n",
        "        \"file_name\": filename,\n",
        "        \"total_chunks\": len(chunks),\n",
        "    }\n",
        "    if extra_meta:\n",
        "        base_meta.update(extra_meta)\n",
        "\n",
        "    records = [\n",
        "        Record(\n",
        "            id=f\"{doc_id}:{i}\",\n",
        "            value=chunk,\n",
        "            attributes={**base_meta, \"chunk_index\": i},\n",
        "        )\n",
        "        for i, chunk in enumerate(chunks)\n",
        "    ]\n",
        "\n",
        "    for batch in batched(records, n=200):\n",
        "        knowledge_index.upsert(batch)\n",
        "\n",
        "    return doc_id, len(records)\n"
      ]
    },
    {
      "cell_type": "markdown",
      "metadata": {
        "id": "VW-G0pr2lLf7"
      },
      "source": [
        "# Index the first knowledge for the agent"
      ]
    },
    {
      "cell_type": "code",
      "execution_count": null,
      "metadata": {
        "id": "zUsvXUgwXjfC"
      },
      "outputs": [],
      "source": [
        "index_uploaded_file(\n",
        "    uploaded_file=\"/content/Firearms Provisions in US States.csv\",\n",
        "    file_type=\"csv\",\n",
        "    chunk_size=200,\n",
        "    chunk_overlap=50\n",
        ")"
      ]
    },
    {
      "cell_type": "code",
      "execution_count": null,
      "metadata": {
        "id": "G4pbsUyukPcG"
      },
      "outputs": [],
      "source": [
        "index_uploaded_file(\n",
        "    uploaded_file=\"/content/Specifications for Electrical Installations.pdf\",\n",
        "    file_type=\"pdf\",\n",
        "    chunk_size=200,\n",
        "    chunk_overlap=50\n",
        ")"
      ]
    },
    {
      "cell_type": "markdown",
      "metadata": {
        "id": "WrhB0rnEm3lD"
      },
      "source": [
        "# Create the agent"
      ]
    },
    {
      "cell_type": "code",
      "execution_count": 18,
      "metadata": {
        "colab": {
          "base_uri": "https://localhost:8080/"
        },
        "id": "Om3OJk5nkPaC",
        "outputId": "166aaa3a-7024-4848-da0e-c0627c3077f2"
      },
      "outputs": [
        {
          "name": "stderr",
          "output_type": "stream",
          "text": [
            "/usr/local/lib/python3.12/dist-packages/aixplain/factories/agent_factory/__init__.py:110: UserWarning: Use `llm` to define the large language model (aixplain.modules.model.llm_model.LLM) to be used as agent. Use `llm_id` to provide the model ID of the large language model to be used as agent. Note: In upcoming releases, `llm` will become a required parameter.\n",
            "  warnings.warn(\n"
          ]
        }
      ],
      "source": [
        "INSTRUCTION = \"\"\"You are a helpful Government Regulations Agent Specialist that helps users query and analyze regulations.\n",
        "    IMPORTANT: Always answer the questions based on your knowledge only, do not make up answers and don't add any extra information that doesn't exist in your knowledge.\n",
        "    IF YOU DON'T HAVE THE KNOWLEDGE, SAY YOU DON'T KNOW IN A POLITE WAY.\n",
        "\n",
        "    When users ask questions related to firearm regulations or policies:\n",
        "    - Search the Document Knowledge for relevant information\n",
        "    - Provide accurate answers based on what you find\n",
        "    - Cite the source file when providing information\n",
        "    - If you can't find relevant information, say so clearly\n",
        "    When users provide a URL:\n",
        "    - Scrape the content\n",
        "    - Provide accurate answer based on what you find\n",
        "    - Cite the source file when providing information\n",
        "    - If you can't find relevant information, say so clearly\n",
        "    When users asks a question about any federal policy:\n",
        "    - Use the federal register tool\n",
        "    - Provide accurate answer based on what you find\n",
        "    - Cite the source file when providing information\n",
        "    - If you can't find relevant information, say so clearly\n",
        "    When users asks any question about any policy or law or regulations:\n",
        "    - Use the knowledge index\n",
        "    - Provide accurate answer based on what you find\n",
        "    - Cite the source file when providing information\n",
        "    - If you can't find relevant information, say so clearly\n",
        "    When users asks about any question about Specifications for Electrical Installations:\n",
        "    - Use the knowledge index\n",
        "    - Provide accurate answer based on what you find\n",
        "    - Cite the source file when providing information\n",
        "    - If you can't find relevant information, say so clearly\n",
        "\n",
        "    Always keep your answers short, concice and strait to the point.\n",
        "\n",
        "    When users ask questions that are NOT about government policies or regulations:\n",
        "    - Do NOT answer the question.\n",
        "    - Politely state that you only handle government policy/regulation queries and invite the user to reframe their request to that scope.\n",
        "    - Do NOT provide workarounds, general advice, or non-policy information.\n",
        "\n",
        "    Examples (do not answer these):\n",
        "    - \"What’s the weather in Austin today?\" → Refuse.\n",
        "    - \"Write a Python script to parse JSON.\" → Refuse.\n",
        "    - \"Recommend a workout plan and diet.\" → Refuse.\n",
        "    - \"Who won the game last night?\" → Refuse.\n",
        "    - \"Fix my iPhone Bluetooth issue.\" → Refuse.\n",
        "    - \"How to make coffee?\" → Refuse.\n",
        "    - Any question related to sports → Refuse.\n",
        "\n",
        "    Borderline example (redirect to policy angle):\n",
        "    - User: \"Can you help me buy a firearm?\"\n",
        "      Assistant: \"I can’t assist with purchasing advice. If you’d like, I can explain applicable firearm regulations or compliance requirements in your jurisdiction.\"\n",
        "\n",
        "\n",
        "\n",
        "    \"\"\"\n",
        "\n",
        "DESCRIPTION = \"A Government Regulations Agent Specialist that helps users query and analyze regulations, compliance policies, and public health guidelines with sourced, grounded answers.\"\n",
        "\n",
        "agent = AgentFactory.create(\n",
        "    name=\"Government Regulations Agent\",\n",
        "    tools=[\n",
        "        scraper_tool,\n",
        "        index_tool,\n",
        "        federal_register_tool\n",
        "    ],\n",
        "    description=DESCRIPTION,\n",
        "    instructions=INSTRUCTION,\n",
        "    llm=\"669a63646eb56306647e1091\"\n",
        ")"
      ]
    },
    {
      "cell_type": "markdown",
      "metadata": {
        "id": "wYOWyyc9m7PG"
      },
      "source": [
        "# Print for UI usage"
      ]
    },
    {
      "cell_type": "code",
      "execution_count": 19,
      "metadata": {
        "colab": {
          "base_uri": "https://localhost:8080/"
        },
        "id": "GX1cpjKYkPXP",
        "outputId": "a154cbb1-1d29-43f7-ce7e-c937f172a66c"
      },
      "outputs": [
        {
          "name": "stdout",
          "output_type": "stream",
          "text": [
            "Agent ID:  68baf18ddef19d770c25f3f3  Index ID:  68baf93ad4e0b5e6e1fb7182\n"
          ]
        }
      ],
      "source": [
        "print(\"Agent ID: \", agent.id, \" Index ID: \", knowledge_index.id)"
      ]
    }
  ],
  "metadata": {
    "colab": {
      "provenance": []
    },
    "kernelspec": {
      "display_name": "Python 3",
      "name": "python3"
    },
    "language_info": {
      "name": "python"
    }
  },
  "nbformat": 4,
  "nbformat_minor": 0
}
